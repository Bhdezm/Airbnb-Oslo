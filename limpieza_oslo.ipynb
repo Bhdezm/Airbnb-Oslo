{
 "cells": [
  {
   "cell_type": "code",
   "execution_count": 40,
   "metadata": {},
   "outputs": [],
   "source": [
    "import numpy as np \n",
    "import pandas as pd\n",
    "import matplotlib.pyplot as plt \n",
    "import seaborn as sns\n",
    "import plotly_express as px"
   ]
  },
  {
   "cell_type": "code",
   "execution_count": 6,
   "metadata": {},
   "outputs": [
    {
     "name": "stderr",
     "output_type": "stream",
     "text": [
      "C:\\Users\\Usuario\\AppData\\Local\\Temp\\ipykernel_7352\\3770857086.py:7: DtypeWarning: Columns (4) have mixed types. Specify dtype option on import or set low_memory=False.\n",
      "  gz_calendar= pd.read_csv(gz_file_path, compression='gzip')\n"
     ]
    }
   ],
   "source": [
    "import pandas as pd\n",
    "\n",
    "# Ruta al archivo .gz\n",
    "gz_file_path = 'res/calendar.csv.gz'\n",
    "\n",
    "# Leer el archivo CSV comprimido directamente como DataFrame\n",
    "gz_calendar= pd.read_csv(gz_file_path, compression='gzip')\n",
    "\n",
    "gz_listings=pd.read_csv('res/listings.csv.gz',compression='gzip')\n",
    "\n",
    "gz_reviews=pd.read_csv('res/reviews.csv.gz',compression='gzip')\n",
    "\n",
    "df_listings=pd.read_csv('res/listings.csv')\n",
    "\n",
    "df_neighbourhoods=pd.read_csv('res/neighbourhoods.csv')\n",
    "\n",
    "df_reviews=pd.read_csv('res/reviews.csv')\n"
   ]
  },
  {
   "cell_type": "code",
   "execution_count": 60,
   "metadata": {},
   "outputs": [
    {
     "name": "stdout",
     "output_type": "stream",
     "text": [
      "(3686136, 7)\n"
     ]
    },
    {
     "data": {
      "text/html": [
       "<div>\n",
       "<style scoped>\n",
       "    .dataframe tbody tr th:only-of-type {\n",
       "        vertical-align: middle;\n",
       "    }\n",
       "\n",
       "    .dataframe tbody tr th {\n",
       "        vertical-align: top;\n",
       "    }\n",
       "\n",
       "    .dataframe thead th {\n",
       "        text-align: right;\n",
       "    }\n",
       "</style>\n",
       "<table border=\"1\" class=\"dataframe\">\n",
       "  <thead>\n",
       "    <tr style=\"text-align: right;\">\n",
       "      <th></th>\n",
       "      <th>listing_id</th>\n",
       "      <th>date</th>\n",
       "      <th>available</th>\n",
       "      <th>price</th>\n",
       "      <th>adjusted_price</th>\n",
       "      <th>minimum_nights</th>\n",
       "      <th>maximum_nights</th>\n",
       "    </tr>\n",
       "  </thead>\n",
       "  <tbody>\n",
       "    <tr>\n",
       "      <th>0</th>\n",
       "      <td>3078404</td>\n",
       "      <td>2024-06-29</td>\n",
       "      <td>f</td>\n",
       "      <td>$1,500.00</td>\n",
       "      <td>NaN</td>\n",
       "      <td>7.0</td>\n",
       "      <td>20.0</td>\n",
       "    </tr>\n",
       "    <tr>\n",
       "      <th>1</th>\n",
       "      <td>3078404</td>\n",
       "      <td>2024-06-30</td>\n",
       "      <td>f</td>\n",
       "      <td>$1,500.00</td>\n",
       "      <td>NaN</td>\n",
       "      <td>7.0</td>\n",
       "      <td>20.0</td>\n",
       "    </tr>\n",
       "    <tr>\n",
       "      <th>2</th>\n",
       "      <td>3078404</td>\n",
       "      <td>2024-07-01</td>\n",
       "      <td>f</td>\n",
       "      <td>$1,500.00</td>\n",
       "      <td>NaN</td>\n",
       "      <td>7.0</td>\n",
       "      <td>20.0</td>\n",
       "    </tr>\n",
       "    <tr>\n",
       "      <th>3</th>\n",
       "      <td>3078404</td>\n",
       "      <td>2024-07-02</td>\n",
       "      <td>f</td>\n",
       "      <td>$1,500.00</td>\n",
       "      <td>NaN</td>\n",
       "      <td>7.0</td>\n",
       "      <td>20.0</td>\n",
       "    </tr>\n",
       "    <tr>\n",
       "      <th>4</th>\n",
       "      <td>3078404</td>\n",
       "      <td>2024-07-03</td>\n",
       "      <td>f</td>\n",
       "      <td>$1,500.00</td>\n",
       "      <td>NaN</td>\n",
       "      <td>7.0</td>\n",
       "      <td>20.0</td>\n",
       "    </tr>\n",
       "  </tbody>\n",
       "</table>\n",
       "</div>"
      ],
      "text/plain": [
       "   listing_id        date available      price adjusted_price  minimum_nights  \\\n",
       "0     3078404  2024-06-29         f  $1,500.00            NaN             7.0   \n",
       "1     3078404  2024-06-30         f  $1,500.00            NaN             7.0   \n",
       "2     3078404  2024-07-01         f  $1,500.00            NaN             7.0   \n",
       "3     3078404  2024-07-02         f  $1,500.00            NaN             7.0   \n",
       "4     3078404  2024-07-03         f  $1,500.00            NaN             7.0   \n",
       "\n",
       "   maximum_nights  \n",
       "0            20.0  \n",
       "1            20.0  \n",
       "2            20.0  \n",
       "3            20.0  \n",
       "4            20.0  "
      ]
     },
     "execution_count": 60,
     "metadata": {},
     "output_type": "execute_result"
    }
   ],
   "source": [
    "print(gz_calendar.shape)\n",
    "gz_calendar.head(5)\n"
   ]
  },
  {
   "cell_type": "code",
   "execution_count": 13,
   "metadata": {},
   "outputs": [
    {
     "data": {
      "text/plain": [
       "listing_id              0\n",
       "date                    0\n",
       "available               0\n",
       "price                   0\n",
       "adjusted_price    3684311\n",
       "minimum_nights          2\n",
       "maximum_nights          2\n",
       "dtype: int64"
      ]
     },
     "execution_count": 13,
     "metadata": {},
     "output_type": "execute_result"
    }
   ],
   "source": [
    "gz_calendar.isnull().sum()"
   ]
  },
  {
   "cell_type": "code",
   "execution_count": 15,
   "metadata": {},
   "outputs": [
    {
     "name": "stdout",
     "output_type": "stream",
     "text": [
      "(10099, 75)\n"
     ]
    },
    {
     "data": {
      "text/html": [
       "<div>\n",
       "<style scoped>\n",
       "    .dataframe tbody tr th:only-of-type {\n",
       "        vertical-align: middle;\n",
       "    }\n",
       "\n",
       "    .dataframe tbody tr th {\n",
       "        vertical-align: top;\n",
       "    }\n",
       "\n",
       "    .dataframe thead th {\n",
       "        text-align: right;\n",
       "    }\n",
       "</style>\n",
       "<table border=\"1\" class=\"dataframe\">\n",
       "  <thead>\n",
       "    <tr style=\"text-align: right;\">\n",
       "      <th></th>\n",
       "      <th>id</th>\n",
       "      <th>listing_url</th>\n",
       "      <th>scrape_id</th>\n",
       "      <th>last_scraped</th>\n",
       "      <th>source</th>\n",
       "      <th>name</th>\n",
       "      <th>description</th>\n",
       "      <th>neighborhood_overview</th>\n",
       "      <th>picture_url</th>\n",
       "      <th>host_id</th>\n",
       "      <th>...</th>\n",
       "      <th>review_scores_communication</th>\n",
       "      <th>review_scores_location</th>\n",
       "      <th>review_scores_value</th>\n",
       "      <th>license</th>\n",
       "      <th>instant_bookable</th>\n",
       "      <th>calculated_host_listings_count</th>\n",
       "      <th>calculated_host_listings_count_entire_homes</th>\n",
       "      <th>calculated_host_listings_count_private_rooms</th>\n",
       "      <th>calculated_host_listings_count_shared_rooms</th>\n",
       "      <th>reviews_per_month</th>\n",
       "    </tr>\n",
       "  </thead>\n",
       "  <tbody>\n",
       "    <tr>\n",
       "      <th>5226</th>\n",
       "      <td>906126491576527535</td>\n",
       "      <td>https://www.airbnb.com/rooms/906126491576527535</td>\n",
       "      <td>20240629155744</td>\n",
       "      <td>2024-06-30</td>\n",
       "      <td>previous scrape</td>\n",
       "      <td>Leilighet sentralt på Løkka med parkering</td>\n",
       "      <td>In this place your family can stay close to ev...</td>\n",
       "      <td>NaN</td>\n",
       "      <td>https://a0.muscache.com/pictures/68906317-bd0b...</td>\n",
       "      <td>301240530</td>\n",
       "      <td>...</td>\n",
       "      <td>NaN</td>\n",
       "      <td>NaN</td>\n",
       "      <td>NaN</td>\n",
       "      <td>NaN</td>\n",
       "      <td>f</td>\n",
       "      <td>1</td>\n",
       "      <td>1</td>\n",
       "      <td>0</td>\n",
       "      <td>0</td>\n",
       "      <td>NaN</td>\n",
       "    </tr>\n",
       "    <tr>\n",
       "      <th>4472</th>\n",
       "      <td>857345931200127284</td>\n",
       "      <td>https://www.airbnb.com/rooms/857345931200127284</td>\n",
       "      <td>20240629155744</td>\n",
       "      <td>2024-06-29</td>\n",
       "      <td>city scrape</td>\n",
       "      <td>Detached house with facilities and sunny condi...</td>\n",
       "      <td>The home has a kitchen-dining room, with space...</td>\n",
       "      <td>The property is located quite far in a quiet c...</td>\n",
       "      <td>https://a0.muscache.com/pictures/miso/Hosting-...</td>\n",
       "      <td>242491721</td>\n",
       "      <td>...</td>\n",
       "      <td>5.0</td>\n",
       "      <td>5.0</td>\n",
       "      <td>5.0</td>\n",
       "      <td>NaN</td>\n",
       "      <td>f</td>\n",
       "      <td>3</td>\n",
       "      <td>1</td>\n",
       "      <td>2</td>\n",
       "      <td>0</td>\n",
       "      <td>1.00</td>\n",
       "    </tr>\n",
       "    <tr>\n",
       "      <th>8857</th>\n",
       "      <td>1148699156264063996</td>\n",
       "      <td>https://www.airbnb.com/rooms/1148699156264063996</td>\n",
       "      <td>20240629155744</td>\n",
       "      <td>2024-06-29</td>\n",
       "      <td>city scrape</td>\n",
       "      <td>Solrikt ved sjøen i Oslo</td>\n",
       "      <td>In this place you have access to west-facing p...</td>\n",
       "      <td>NaN</td>\n",
       "      <td>https://a0.muscache.com/pictures/miso/Hosting-...</td>\n",
       "      <td>81470390</td>\n",
       "      <td>...</td>\n",
       "      <td>NaN</td>\n",
       "      <td>NaN</td>\n",
       "      <td>NaN</td>\n",
       "      <td>NaN</td>\n",
       "      <td>f</td>\n",
       "      <td>1</td>\n",
       "      <td>1</td>\n",
       "      <td>0</td>\n",
       "      <td>0</td>\n",
       "      <td>NaN</td>\n",
       "    </tr>\n",
       "    <tr>\n",
       "      <th>7812</th>\n",
       "      <td>1089265046788934330</td>\n",
       "      <td>https://www.airbnb.com/rooms/1089265046788934330</td>\n",
       "      <td>20240629155744</td>\n",
       "      <td>2024-06-29</td>\n",
       "      <td>city scrape</td>\n",
       "      <td>Hus med solrik hage og utsikt</td>\n",
       "      <td>Welcome to Abildsø's best view! Newly renovate...</td>\n",
       "      <td>Abildsø is a quiet neighborhood in the heart o...</td>\n",
       "      <td>https://a0.muscache.com/pictures/miso/Hosting-...</td>\n",
       "      <td>57656275</td>\n",
       "      <td>...</td>\n",
       "      <td>NaN</td>\n",
       "      <td>NaN</td>\n",
       "      <td>NaN</td>\n",
       "      <td>NaN</td>\n",
       "      <td>f</td>\n",
       "      <td>1</td>\n",
       "      <td>1</td>\n",
       "      <td>0</td>\n",
       "      <td>0</td>\n",
       "      <td>NaN</td>\n",
       "    </tr>\n",
       "    <tr>\n",
       "      <th>8482</th>\n",
       "      <td>1128482433296477360</td>\n",
       "      <td>https://www.airbnb.com/rooms/1128482433296477360</td>\n",
       "      <td>20240629155744</td>\n",
       "      <td>2024-06-29</td>\n",
       "      <td>city scrape</td>\n",
       "      <td>Room in central Oslo</td>\n",
       "      <td>Welcome to our beautiful apartment, located in...</td>\n",
       "      <td>NaN</td>\n",
       "      <td>https://a0.muscache.com/pictures/hosting/Hosti...</td>\n",
       "      <td>537751867</td>\n",
       "      <td>...</td>\n",
       "      <td>5.0</td>\n",
       "      <td>5.0</td>\n",
       "      <td>5.0</td>\n",
       "      <td>NaN</td>\n",
       "      <td>t</td>\n",
       "      <td>6</td>\n",
       "      <td>2</td>\n",
       "      <td>4</td>\n",
       "      <td>0</td>\n",
       "      <td>0.85</td>\n",
       "    </tr>\n",
       "  </tbody>\n",
       "</table>\n",
       "<p>5 rows × 75 columns</p>\n",
       "</div>"
      ],
      "text/plain": [
       "                       id                                       listing_url  \\\n",
       "5226   906126491576527535   https://www.airbnb.com/rooms/906126491576527535   \n",
       "4472   857345931200127284   https://www.airbnb.com/rooms/857345931200127284   \n",
       "8857  1148699156264063996  https://www.airbnb.com/rooms/1148699156264063996   \n",
       "7812  1089265046788934330  https://www.airbnb.com/rooms/1089265046788934330   \n",
       "8482  1128482433296477360  https://www.airbnb.com/rooms/1128482433296477360   \n",
       "\n",
       "           scrape_id last_scraped           source  \\\n",
       "5226  20240629155744   2024-06-30  previous scrape   \n",
       "4472  20240629155744   2024-06-29      city scrape   \n",
       "8857  20240629155744   2024-06-29      city scrape   \n",
       "7812  20240629155744   2024-06-29      city scrape   \n",
       "8482  20240629155744   2024-06-29      city scrape   \n",
       "\n",
       "                                                   name  \\\n",
       "5226          Leilighet sentralt på Løkka med parkering   \n",
       "4472  Detached house with facilities and sunny condi...   \n",
       "8857                           Solrikt ved sjøen i Oslo   \n",
       "7812                      Hus med solrik hage og utsikt   \n",
       "8482                               Room in central Oslo   \n",
       "\n",
       "                                            description  \\\n",
       "5226  In this place your family can stay close to ev...   \n",
       "4472  The home has a kitchen-dining room, with space...   \n",
       "8857  In this place you have access to west-facing p...   \n",
       "7812  Welcome to Abildsø's best view! Newly renovate...   \n",
       "8482  Welcome to our beautiful apartment, located in...   \n",
       "\n",
       "                                  neighborhood_overview  \\\n",
       "5226                                                NaN   \n",
       "4472  The property is located quite far in a quiet c...   \n",
       "8857                                                NaN   \n",
       "7812  Abildsø is a quiet neighborhood in the heart o...   \n",
       "8482                                                NaN   \n",
       "\n",
       "                                            picture_url    host_id  ...  \\\n",
       "5226  https://a0.muscache.com/pictures/68906317-bd0b...  301240530  ...   \n",
       "4472  https://a0.muscache.com/pictures/miso/Hosting-...  242491721  ...   \n",
       "8857  https://a0.muscache.com/pictures/miso/Hosting-...   81470390  ...   \n",
       "7812  https://a0.muscache.com/pictures/miso/Hosting-...   57656275  ...   \n",
       "8482  https://a0.muscache.com/pictures/hosting/Hosti...  537751867  ...   \n",
       "\n",
       "     review_scores_communication review_scores_location review_scores_value  \\\n",
       "5226                         NaN                    NaN                 NaN   \n",
       "4472                         5.0                    5.0                 5.0   \n",
       "8857                         NaN                    NaN                 NaN   \n",
       "7812                         NaN                    NaN                 NaN   \n",
       "8482                         5.0                    5.0                 5.0   \n",
       "\n",
       "     license instant_bookable calculated_host_listings_count  \\\n",
       "5226     NaN                f                              1   \n",
       "4472     NaN                f                              3   \n",
       "8857     NaN                f                              1   \n",
       "7812     NaN                f                              1   \n",
       "8482     NaN                t                              6   \n",
       "\n",
       "     calculated_host_listings_count_entire_homes  \\\n",
       "5226                                           1   \n",
       "4472                                           1   \n",
       "8857                                           1   \n",
       "7812                                           1   \n",
       "8482                                           2   \n",
       "\n",
       "     calculated_host_listings_count_private_rooms  \\\n",
       "5226                                            0   \n",
       "4472                                            2   \n",
       "8857                                            0   \n",
       "7812                                            0   \n",
       "8482                                            4   \n",
       "\n",
       "     calculated_host_listings_count_shared_rooms reviews_per_month  \n",
       "5226                                           0               NaN  \n",
       "4472                                           0              1.00  \n",
       "8857                                           0               NaN  \n",
       "7812                                           0               NaN  \n",
       "8482                                           0              0.85  \n",
       "\n",
       "[5 rows x 75 columns]"
      ]
     },
     "execution_count": 15,
     "metadata": {},
     "output_type": "execute_result"
    }
   ],
   "source": [
    "print(gz_listings.shape)\n",
    "gz_listings.sample(5)"
   ]
  },
  {
   "cell_type": "code",
   "execution_count": 105,
   "metadata": {},
   "outputs": [
    {
     "name": "stdout",
     "output_type": "stream",
     "text": [
      "Empty DataFrame\n",
      "Columns: [id, listing_url, scrape_id, last_scraped, source, name, description, neighborhood_overview, picture_url, host_id, host_url, host_name, host_since, host_location, host_about, host_response_time, host_response_rate, host_acceptance_rate, host_is_superhost, host_thumbnail_url, host_picture_url, host_neighbourhood, host_listings_count, host_total_listings_count, host_verifications, host_has_profile_pic, host_identity_verified, neighbourhood, neighbourhood_cleansed, neighbourhood_group_cleansed, latitude, longitude, property_type, room_type, accommodates, bathrooms, bathrooms_text, bedrooms, beds, amenities, price, minimum_nights, maximum_nights, minimum_minimum_nights, maximum_minimum_nights, minimum_maximum_nights, maximum_maximum_nights, minimum_nights_avg_ntm, maximum_nights_avg_ntm, calendar_updated, has_availability, availability_30, availability_60, availability_90, availability_365, calendar_last_scraped, number_of_reviews, number_of_reviews_ltm, number_of_reviews_l30d, first_review, last_review, review_scores_rating, review_scores_accuracy, review_scores_cleanliness, review_scores_checkin, review_scores_communication, review_scores_location, review_scores_value, license, instant_bookable, calculated_host_listings_count, calculated_host_listings_count_entire_homes, calculated_host_listings_count_private_rooms, calculated_host_listings_count_shared_rooms, reviews_per_month]\n",
      "Index: []\n",
      "\n",
      "[0 rows x 75 columns]\n"
     ]
    }
   ],
   "source": [
    "comparison=(gz_listings['id']==df_listings['id'])\n",
    "mismatched_ids = gz_listings[~comparison]\n",
    "print(mismatched_ids)"
   ]
  },
  {
   "cell_type": "code",
   "execution_count": null,
   "metadata": {},
   "outputs": [
    {
     "data": {
      "text/plain": [
       "neighbourhood_group_cleansed    10099\n",
       "license                         10099\n",
       "calendar_updated                10099\n",
       "host_neighbourhood               8832\n",
       "host_about                       6632\n",
       "                                ...  \n",
       "maximum_maximum_nights              0\n",
       "minimum_nights_avg_ntm              0\n",
       "maximum_nights_avg_ntm              0\n",
       "host_picture_url                    0\n",
       "id                                  0\n",
       "Length: 75, dtype: int64"
      ]
     },
     "execution_count": 69,
     "metadata": {},
     "output_type": "execute_result"
    }
   ],
   "source": [
    "gz_listings.isnull().sum().sort_values(ascending=False)/\n"
   ]
  },
  {
   "cell_type": "code",
   "execution_count": 84,
   "metadata": {},
   "outputs": [
    {
     "name": "stdout",
     "output_type": "stream",
     "text": [
      "Columnas con más de un valor nulo:\n",
      "calendar_updated                100.00\n",
      "license                         100.00\n",
      "neighbourhood_group_cleansed    100.00\n",
      "host_neighbourhood               87.45\n",
      "host_about                       65.67\n",
      "neighbourhood                    62.99\n",
      "neighborhood_overview            62.99\n",
      "review_scores_value              27.12\n",
      "review_scores_cleanliness        27.11\n",
      "review_scores_accuracy           27.11\n",
      "review_scores_checkin            27.11\n",
      "review_scores_location           27.11\n",
      "review_scores_communication      27.11\n",
      "review_scores_rating             26.87\n",
      "last_review                      26.87\n",
      "first_review                     26.87\n",
      "reviews_per_month                26.87\n",
      "host_response_rate               20.96\n",
      "host_response_time               20.96\n",
      "host_location                    16.86\n",
      "host_acceptance_rate             12.96\n",
      "price                            12.37\n",
      "bathrooms                        12.03\n",
      "beds                             11.98\n",
      "has_availability                  3.86\n",
      "description                       3.60\n",
      "bedrooms                          1.71\n",
      "host_is_superhost                 1.03\n",
      "bathrooms_text                    0.06\n",
      "dtype: float64\n"
     ]
    }
   ],
   "source": [
    "nulos_por_columna = gz_listings.isnull().sum()\n",
    "\n",
    "# Filtrar las columnas con más de un valor nulo\n",
    "columnas_con_mas_de_un_nulo = nulos_por_columna[nulos_por_columna > 1]\n",
    "\n",
    "print(\"Columnas con más de un valor nulo:\")\n",
    "print((columnas_con_mas_de_un_nulo.sort_values(ascending=False)/gz_listings.shape[0]*100).round(2))"
   ]
  },
  {
   "cell_type": "code",
   "execution_count": 100,
   "metadata": {},
   "outputs": [
    {
     "data": {
      "text/plain": [
       "{'availability_365',\n",
       " 'calculated_host_listings_count',\n",
       " 'host_id',\n",
       " 'host_name',\n",
       " 'id',\n",
       " 'last_review',\n",
       " 'latitude',\n",
       " 'license',\n",
       " 'longitude',\n",
       " 'minimum_nights',\n",
       " 'name',\n",
       " 'neighbourhood',\n",
       " 'number_of_reviews',\n",
       " 'number_of_reviews_ltm',\n",
       " 'price',\n",
       " 'reviews_per_month',\n",
       " 'room_type'}"
      ]
     },
     "execution_count": 100,
     "metadata": {},
     "output_type": "execute_result"
    }
   ],
   "source": [
    "columnas_comunes=set(df_listings.columns.intersection(gz_listings.columns))\n",
    "(columnas_comunes)\n"
   ]
  },
  {
   "cell_type": "code",
   "execution_count": 127,
   "metadata": {},
   "outputs": [
    {
     "name": "stdout",
     "output_type": "stream",
     "text": [
      "Empty DataFrame\n",
      "Columns: [id, listing_url, scrape_id, last_scraped, source, name, description, neighborhood_overview, picture_url, host_id, host_url, host_name, host_since, host_location, host_about, host_response_time, host_response_rate, host_acceptance_rate, host_is_superhost, host_thumbnail_url, host_picture_url, host_neighbourhood, host_listings_count, host_total_listings_count, host_verifications, host_has_profile_pic, host_identity_verified, neighbourhood, neighbourhood_cleansed, neighbourhood_group_cleansed, latitude, longitude, property_type, room_type, accommodates, bathrooms, bathrooms_text, bedrooms, beds, amenities, price, minimum_nights, maximum_nights, minimum_minimum_nights, maximum_minimum_nights, minimum_maximum_nights, maximum_maximum_nights, minimum_nights_avg_ntm, maximum_nights_avg_ntm, calendar_updated, has_availability, availability_30, availability_60, availability_90, availability_365, calendar_last_scraped, number_of_reviews, number_of_reviews_ltm, number_of_reviews_l30d, first_review, last_review, review_scores_rating, review_scores_accuracy, review_scores_cleanliness, review_scores_checkin, review_scores_communication, review_scores_location, review_scores_value, license, instant_bookable, calculated_host_listings_count, calculated_host_listings_count_entire_homes, calculated_host_listings_count_private_rooms, calculated_host_listings_count_shared_rooms, reviews_per_month]\n",
      "Index: []\n",
      "\n",
      "[0 rows x 75 columns]\n"
     ]
    }
   ],
   "source": [
    "comparison=(gz_listings['id']==df_listings['id'])\n",
    "mismatched_ids = gz_listings[~comparison]\n",
    "print(mismatched_ids)"
   ]
  },
  {
   "cell_type": "code",
   "execution_count": 115,
   "metadata": {},
   "outputs": [
    {
     "data": {
      "text/plain": [
       "id                                  0.000000\n",
       "name                                0.000000\n",
       "host_id                             0.000000\n",
       "host_name                           0.000000\n",
       "neighbourhood_group               100.000000\n",
       "neighbourhood                       0.000000\n",
       "latitude                            0.000000\n",
       "longitude                           0.000000\n",
       "room_type                           0.000000\n",
       "price                              12.367561\n",
       "minimum_nights                      0.000000\n",
       "number_of_reviews                   0.000000\n",
       "last_review                        26.873948\n",
       "reviews_per_month                  26.873948\n",
       "calculated_host_listings_count      0.000000\n",
       "availability_365                    0.000000\n",
       "number_of_reviews_ltm               0.000000\n",
       "license                           100.000000\n",
       "dtype: float64"
      ]
     },
     "execution_count": 115,
     "metadata": {},
     "output_type": "execute_result"
    }
   ],
   "source": [
    "df_listings.isnull().sum()/df_listings.shape[0]*100"
   ]
  },
  {
   "cell_type": "code",
   "execution_count": 65,
   "metadata": {},
   "outputs": [
    {
     "name": "stdout",
     "output_type": "stream",
     "text": [
      "(10099, 75)\n",
      "(10099, 18)\n"
     ]
    }
   ],
   "source": [
    "print(gz_listings.shape)\n",
    "print(df_listings.shape)"
   ]
  },
  {
   "cell_type": "code",
   "execution_count": 24,
   "metadata": {},
   "outputs": [
    {
     "name": "stdout",
     "output_type": "stream",
     "text": [
      "(167633, 6)\n",
      "(167633, 2)\n"
     ]
    }
   ],
   "source": [
    "print(gz_reviews.shape)\n",
    "print(df_reviews.shape)"
   ]
  },
  {
   "cell_type": "code",
   "execution_count": 29,
   "metadata": {},
   "outputs": [
    {
     "data": {
      "text/html": [
       "<div>\n",
       "<style scoped>\n",
       "    .dataframe tbody tr th:only-of-type {\n",
       "        vertical-align: middle;\n",
       "    }\n",
       "\n",
       "    .dataframe tbody tr th {\n",
       "        vertical-align: top;\n",
       "    }\n",
       "\n",
       "    .dataframe thead th {\n",
       "        text-align: right;\n",
       "    }\n",
       "</style>\n",
       "<table border=\"1\" class=\"dataframe\">\n",
       "  <thead>\n",
       "    <tr style=\"text-align: right;\">\n",
       "      <th></th>\n",
       "      <th>listing_id</th>\n",
       "      <th>id</th>\n",
       "      <th>date</th>\n",
       "      <th>reviewer_id</th>\n",
       "      <th>reviewer_name</th>\n",
       "      <th>comments</th>\n",
       "    </tr>\n",
       "  </thead>\n",
       "  <tbody>\n",
       "    <tr>\n",
       "      <th>167628</th>\n",
       "      <td>1183753819897232363</td>\n",
       "      <td>1189703805177120244</td>\n",
       "      <td>2024-06-29</td>\n",
       "      <td>75041796</td>\n",
       "      <td>Markus</td>\n",
       "      <td>Nice area and super friendly hosts</td>\n",
       "    </tr>\n",
       "    <tr>\n",
       "      <th>167629</th>\n",
       "      <td>1184837452215505435</td>\n",
       "      <td>1188316132042491707</td>\n",
       "      <td>2024-06-27</td>\n",
       "      <td>335832683</td>\n",
       "      <td>Fredrik S</td>\n",
       "      <td>Kjempefin og ren leilighet som svarte til forv...</td>\n",
       "    </tr>\n",
       "    <tr>\n",
       "      <th>167630</th>\n",
       "      <td>1185718401945226016</td>\n",
       "      <td>1189790756831786313</td>\n",
       "      <td>2024-06-29</td>\n",
       "      <td>154327292</td>\n",
       "      <td>Gintare</td>\n",
       "      <td>The location of apparent was really good, for ...</td>\n",
       "    </tr>\n",
       "    <tr>\n",
       "      <th>167631</th>\n",
       "      <td>1186297768378069929</td>\n",
       "      <td>1188249982689884858</td>\n",
       "      <td>2024-06-27</td>\n",
       "      <td>146662985</td>\n",
       "      <td>Dino</td>\n",
       "      <td>Utrolig sjarmerende, moderne og hyggelig leili...</td>\n",
       "    </tr>\n",
       "    <tr>\n",
       "      <th>167632</th>\n",
       "      <td>1187069965476775838</td>\n",
       "      <td>1189701971811902867</td>\n",
       "      <td>2024-06-29</td>\n",
       "      <td>132894544</td>\n",
       "      <td>Sindre</td>\n",
       "      <td>Perfekt sted i Oslo. Nærme parker og restauran...</td>\n",
       "    </tr>\n",
       "  </tbody>\n",
       "</table>\n",
       "</div>"
      ],
      "text/plain": [
       "                 listing_id                   id        date  reviewer_id  \\\n",
       "167628  1183753819897232363  1189703805177120244  2024-06-29     75041796   \n",
       "167629  1184837452215505435  1188316132042491707  2024-06-27    335832683   \n",
       "167630  1185718401945226016  1189790756831786313  2024-06-29    154327292   \n",
       "167631  1186297768378069929  1188249982689884858  2024-06-27    146662985   \n",
       "167632  1187069965476775838  1189701971811902867  2024-06-29    132894544   \n",
       "\n",
       "       reviewer_name                                           comments  \n",
       "167628        Markus                 Nice area and super friendly hosts  \n",
       "167629     Fredrik S  Kjempefin og ren leilighet som svarte til forv...  \n",
       "167630       Gintare  The location of apparent was really good, for ...  \n",
       "167631          Dino  Utrolig sjarmerende, moderne og hyggelig leili...  \n",
       "167632        Sindre  Perfekt sted i Oslo. Nærme parker og restauran...  "
      ]
     },
     "execution_count": 29,
     "metadata": {},
     "output_type": "execute_result"
    }
   ],
   "source": [
    "gz_reviews.tail(5)"
   ]
  },
  {
   "cell_type": "code",
   "execution_count": 30,
   "metadata": {},
   "outputs": [
    {
     "data": {
      "text/html": [
       "<div>\n",
       "<style scoped>\n",
       "    .dataframe tbody tr th:only-of-type {\n",
       "        vertical-align: middle;\n",
       "    }\n",
       "\n",
       "    .dataframe tbody tr th {\n",
       "        vertical-align: top;\n",
       "    }\n",
       "\n",
       "    .dataframe thead th {\n",
       "        text-align: right;\n",
       "    }\n",
       "</style>\n",
       "<table border=\"1\" class=\"dataframe\">\n",
       "  <thead>\n",
       "    <tr style=\"text-align: right;\">\n",
       "      <th></th>\n",
       "      <th>listing_id</th>\n",
       "      <th>date</th>\n",
       "    </tr>\n",
       "  </thead>\n",
       "  <tbody>\n",
       "    <tr>\n",
       "      <th>167628</th>\n",
       "      <td>1183753819897232363</td>\n",
       "      <td>2024-06-29</td>\n",
       "    </tr>\n",
       "    <tr>\n",
       "      <th>167629</th>\n",
       "      <td>1184837452215505435</td>\n",
       "      <td>2024-06-27</td>\n",
       "    </tr>\n",
       "    <tr>\n",
       "      <th>167630</th>\n",
       "      <td>1185718401945226016</td>\n",
       "      <td>2024-06-29</td>\n",
       "    </tr>\n",
       "    <tr>\n",
       "      <th>167631</th>\n",
       "      <td>1186297768378069929</td>\n",
       "      <td>2024-06-27</td>\n",
       "    </tr>\n",
       "    <tr>\n",
       "      <th>167632</th>\n",
       "      <td>1187069965476775838</td>\n",
       "      <td>2024-06-29</td>\n",
       "    </tr>\n",
       "  </tbody>\n",
       "</table>\n",
       "</div>"
      ],
      "text/plain": [
       "                 listing_id        date\n",
       "167628  1183753819897232363  2024-06-29\n",
       "167629  1184837452215505435  2024-06-27\n",
       "167630  1185718401945226016  2024-06-29\n",
       "167631  1186297768378069929  2024-06-27\n",
       "167632  1187069965476775838  2024-06-29"
      ]
     },
     "execution_count": 30,
     "metadata": {},
     "output_type": "execute_result"
    }
   ],
   "source": [
    "df_reviews.tail(5)"
   ]
  },
  {
   "cell_type": "code",
   "execution_count": 37,
   "metadata": {},
   "outputs": [
    {
     "name": "stdout",
     "output_type": "stream",
     "text": [
      "(168179, 6)\n",
      "listing_id        0\n",
      "id                0\n",
      "date              0\n",
      "reviewer_id       0\n",
      "reviewer_name     0\n",
      "comments         13\n",
      "dtype: int64\n"
     ]
    }
   ],
   "source": [
    "dataset_reviews=pd.merge(gz_reviews,df_reviews)\n",
    "print(dataset_reviews.shape)\n",
    "print(dataset_reviews.isnull().sum())"
   ]
  },
  {
   "cell_type": "code",
   "execution_count": 42,
   "metadata": {},
   "outputs": [],
   "source": [
    "dataset_reviews.dropna(inplace=True)"
   ]
  }
 ],
 "metadata": {
  "kernelspec": {
   "display_name": "Python 3",
   "language": "python",
   "name": "python3"
  },
  "language_info": {
   "codemirror_mode": {
    "name": "ipython",
    "version": 3
   },
   "file_extension": ".py",
   "mimetype": "text/x-python",
   "name": "python",
   "nbconvert_exporter": "python",
   "pygments_lexer": "ipython3",
   "version": "3.12.3"
  }
 },
 "nbformat": 4,
 "nbformat_minor": 2
}
