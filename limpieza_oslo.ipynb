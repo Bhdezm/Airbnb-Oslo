{
 "cells": [
  {
   "cell_type": "code",
   "execution_count": 1,
   "metadata": {},
   "outputs": [],
   "source": [
    "import numpy as np \n",
    "import pandas as pd\n",
    "import matplotlib.pyplot as plt \n",
    "import seaborn as sns\n",
    "import plotly_express as px"
   ]
  },
  {
   "cell_type": "code",
   "execution_count": 4,
   "metadata": {},
   "outputs": [
    {
     "name": "stderr",
     "output_type": "stream",
     "text": [
      "C:\\Users\\Usuario\\AppData\\Local\\Temp\\ipykernel_19392\\2410161840.py:2: DtypeWarning: Columns (4) have mixed types. Specify dtype option on import or set low_memory=False.\n",
      "  gz_calendar= pd.read_csv('res/calendar.csv.gz', compression='gzip')\n"
     ]
    }
   ],
   "source": [
    "# Leer el archivo CSV comprimido directamente como DataFrame\n",
    "gz_calendar= pd.read_csv('res/calendar.csv.gz', compression='gzip')\n",
    "\n",
    "gz_listings=pd.read_csv('res/listings.csv.gz',compression='gzip')\n",
    "\n",
    "gz_reviews=pd.read_csv('res/reviews.csv.gz',compression='gzip')\n",
    "\n",
    "df_listings=pd.read_csv('res/listings.csv')\n",
    "\n",
    "df_reviews=pd.read_csv('res/reviews.csv')\n"
   ]
  },
  {
   "cell_type": "code",
   "execution_count": 5,
   "metadata": {},
   "outputs": [
    {
     "name": "stdout",
     "output_type": "stream",
     "text": [
      "(3686136, 7)\n"
     ]
    },
    {
     "data": {
      "text/html": [
       "<div>\n",
       "<style scoped>\n",
       "    .dataframe tbody tr th:only-of-type {\n",
       "        vertical-align: middle;\n",
       "    }\n",
       "\n",
       "    .dataframe tbody tr th {\n",
       "        vertical-align: top;\n",
       "    }\n",
       "\n",
       "    .dataframe thead th {\n",
       "        text-align: right;\n",
       "    }\n",
       "</style>\n",
       "<table border=\"1\" class=\"dataframe\">\n",
       "  <thead>\n",
       "    <tr style=\"text-align: right;\">\n",
       "      <th></th>\n",
       "      <th>listing_id</th>\n",
       "      <th>date</th>\n",
       "      <th>available</th>\n",
       "      <th>price</th>\n",
       "      <th>adjusted_price</th>\n",
       "      <th>minimum_nights</th>\n",
       "      <th>maximum_nights</th>\n",
       "    </tr>\n",
       "  </thead>\n",
       "  <tbody>\n",
       "    <tr>\n",
       "      <th>0</th>\n",
       "      <td>3078404</td>\n",
       "      <td>2024-06-29</td>\n",
       "      <td>f</td>\n",
       "      <td>$1,500.00</td>\n",
       "      <td>NaN</td>\n",
       "      <td>7.0</td>\n",
       "      <td>20.0</td>\n",
       "    </tr>\n",
       "    <tr>\n",
       "      <th>1</th>\n",
       "      <td>3078404</td>\n",
       "      <td>2024-06-30</td>\n",
       "      <td>f</td>\n",
       "      <td>$1,500.00</td>\n",
       "      <td>NaN</td>\n",
       "      <td>7.0</td>\n",
       "      <td>20.0</td>\n",
       "    </tr>\n",
       "    <tr>\n",
       "      <th>2</th>\n",
       "      <td>3078404</td>\n",
       "      <td>2024-07-01</td>\n",
       "      <td>f</td>\n",
       "      <td>$1,500.00</td>\n",
       "      <td>NaN</td>\n",
       "      <td>7.0</td>\n",
       "      <td>20.0</td>\n",
       "    </tr>\n",
       "    <tr>\n",
       "      <th>3</th>\n",
       "      <td>3078404</td>\n",
       "      <td>2024-07-02</td>\n",
       "      <td>f</td>\n",
       "      <td>$1,500.00</td>\n",
       "      <td>NaN</td>\n",
       "      <td>7.0</td>\n",
       "      <td>20.0</td>\n",
       "    </tr>\n",
       "    <tr>\n",
       "      <th>4</th>\n",
       "      <td>3078404</td>\n",
       "      <td>2024-07-03</td>\n",
       "      <td>f</td>\n",
       "      <td>$1,500.00</td>\n",
       "      <td>NaN</td>\n",
       "      <td>7.0</td>\n",
       "      <td>20.0</td>\n",
       "    </tr>\n",
       "  </tbody>\n",
       "</table>\n",
       "</div>"
      ],
      "text/plain": [
       "   listing_id        date available      price adjusted_price  minimum_nights  \\\n",
       "0     3078404  2024-06-29         f  $1,500.00            NaN             7.0   \n",
       "1     3078404  2024-06-30         f  $1,500.00            NaN             7.0   \n",
       "2     3078404  2024-07-01         f  $1,500.00            NaN             7.0   \n",
       "3     3078404  2024-07-02         f  $1,500.00            NaN             7.0   \n",
       "4     3078404  2024-07-03         f  $1,500.00            NaN             7.0   \n",
       "\n",
       "   maximum_nights  \n",
       "0            20.0  \n",
       "1            20.0  \n",
       "2            20.0  \n",
       "3            20.0  \n",
       "4            20.0  "
      ]
     },
     "execution_count": 5,
     "metadata": {},
     "output_type": "execute_result"
    }
   ],
   "source": [
    "print(gz_calendar.shape)\n",
    "gz_calendar.head(5)\n"
   ]
  },
  {
   "cell_type": "code",
   "execution_count": 8,
   "metadata": {},
   "outputs": [
    {
     "data": {
      "text/plain": [
       "listing_id        0\n",
       "date              0\n",
       "available         0\n",
       "price             0\n",
       "minimum_nights    2\n",
       "maximum_nights    2\n",
       "dtype: int64"
      ]
     },
     "execution_count": 8,
     "metadata": {},
     "output_type": "execute_result"
    }
   ],
   "source": [
    "gz_calendar.isnull().sum()"
   ]
  },
  {
   "cell_type": "code",
   "execution_count": 7,
   "metadata": {},
   "outputs": [],
   "source": [
    "del gz_calendar['adjusted_price']"
   ]
  },
  {
   "cell_type": "code",
   "execution_count": 9,
   "metadata": {},
   "outputs": [
    {
     "name": "stdout",
     "output_type": "stream",
     "text": [
      "(10099, 75)\n"
     ]
    },
    {
     "data": {
      "text/html": [
       "<div>\n",
       "<style scoped>\n",
       "    .dataframe tbody tr th:only-of-type {\n",
       "        vertical-align: middle;\n",
       "    }\n",
       "\n",
       "    .dataframe tbody tr th {\n",
       "        vertical-align: top;\n",
       "    }\n",
       "\n",
       "    .dataframe thead th {\n",
       "        text-align: right;\n",
       "    }\n",
       "</style>\n",
       "<table border=\"1\" class=\"dataframe\">\n",
       "  <thead>\n",
       "    <tr style=\"text-align: right;\">\n",
       "      <th></th>\n",
       "      <th>id</th>\n",
       "      <th>listing_url</th>\n",
       "      <th>scrape_id</th>\n",
       "      <th>last_scraped</th>\n",
       "      <th>source</th>\n",
       "      <th>name</th>\n",
       "      <th>description</th>\n",
       "      <th>neighborhood_overview</th>\n",
       "      <th>picture_url</th>\n",
       "      <th>host_id</th>\n",
       "      <th>...</th>\n",
       "      <th>review_scores_communication</th>\n",
       "      <th>review_scores_location</th>\n",
       "      <th>review_scores_value</th>\n",
       "      <th>license</th>\n",
       "      <th>instant_bookable</th>\n",
       "      <th>calculated_host_listings_count</th>\n",
       "      <th>calculated_host_listings_count_entire_homes</th>\n",
       "      <th>calculated_host_listings_count_private_rooms</th>\n",
       "      <th>calculated_host_listings_count_shared_rooms</th>\n",
       "      <th>reviews_per_month</th>\n",
       "    </tr>\n",
       "  </thead>\n",
       "  <tbody>\n",
       "    <tr>\n",
       "      <th>4494</th>\n",
       "      <td>859161389025777098</td>\n",
       "      <td>https://www.airbnb.com/rooms/859161389025777098</td>\n",
       "      <td>20240629155744</td>\n",
       "      <td>2024-06-29</td>\n",
       "      <td>city scrape</td>\n",
       "      <td>Spacious lovely apartment in the senter of Oslo</td>\n",
       "      <td>Spacious and stylish apartment at central area...</td>\n",
       "      <td>Very central and attractive location close to ...</td>\n",
       "      <td>https://a0.muscache.com/pictures/miso/Hosting-...</td>\n",
       "      <td>83000559</td>\n",
       "      <td>...</td>\n",
       "      <td>5.00</td>\n",
       "      <td>4.43</td>\n",
       "      <td>4.57</td>\n",
       "      <td>NaN</td>\n",
       "      <td>t</td>\n",
       "      <td>1</td>\n",
       "      <td>1</td>\n",
       "      <td>0</td>\n",
       "      <td>0</td>\n",
       "      <td>0.62</td>\n",
       "    </tr>\n",
       "    <tr>\n",
       "      <th>3047</th>\n",
       "      <td>658315390474350003</td>\n",
       "      <td>https://www.airbnb.com/rooms/658315390474350003</td>\n",
       "      <td>20240629155744</td>\n",
       "      <td>2024-06-29</td>\n",
       "      <td>city scrape</td>\n",
       "      <td>Seafront apartment at luxurious Tjuvholmen</td>\n",
       "      <td>Beautiful and central apartment at the exclusi...</td>\n",
       "      <td>NaN</td>\n",
       "      <td>https://a0.muscache.com/pictures/miso/Hosting-...</td>\n",
       "      <td>466300993</td>\n",
       "      <td>...</td>\n",
       "      <td>4.97</td>\n",
       "      <td>4.97</td>\n",
       "      <td>4.84</td>\n",
       "      <td>NaN</td>\n",
       "      <td>t</td>\n",
       "      <td>1</td>\n",
       "      <td>1</td>\n",
       "      <td>0</td>\n",
       "      <td>0</td>\n",
       "      <td>3.11</td>\n",
       "    </tr>\n",
       "    <tr>\n",
       "      <th>4772</th>\n",
       "      <td>884553172893875874</td>\n",
       "      <td>https://www.airbnb.com/rooms/884553172893875874</td>\n",
       "      <td>20240629155744</td>\n",
       "      <td>2024-06-30</td>\n",
       "      <td>previous scrape</td>\n",
       "      <td>Summer at Grünerløkka, Oslo</td>\n",
       "      <td>A convenient 60m2 flat at Grünerløkka, Oslo - ...</td>\n",
       "      <td>The flat is located centrally at Grünerløkka, ...</td>\n",
       "      <td>https://a0.muscache.com/pictures/1e2fbc30-8e18...</td>\n",
       "      <td>76056154</td>\n",
       "      <td>...</td>\n",
       "      <td>5.00</td>\n",
       "      <td>4.97</td>\n",
       "      <td>4.90</td>\n",
       "      <td>NaN</td>\n",
       "      <td>t</td>\n",
       "      <td>1</td>\n",
       "      <td>1</td>\n",
       "      <td>0</td>\n",
       "      <td>0</td>\n",
       "      <td>2.29</td>\n",
       "    </tr>\n",
       "    <tr>\n",
       "      <th>3648</th>\n",
       "      <td>735923251748610942</td>\n",
       "      <td>https://www.airbnb.com/rooms/735923251748610942</td>\n",
       "      <td>20240629155744</td>\n",
       "      <td>2024-06-29</td>\n",
       "      <td>city scrape</td>\n",
       "      <td>Maisonette Venice,2floors, 2 toilette,3 bedrooms</td>\n",
       "      <td>Your family will be close to everything when y...</td>\n",
       "      <td>NaN</td>\n",
       "      <td>https://a0.muscache.com/pictures/miso/Hosting-...</td>\n",
       "      <td>20437055</td>\n",
       "      <td>...</td>\n",
       "      <td>4.92</td>\n",
       "      <td>4.92</td>\n",
       "      <td>4.56</td>\n",
       "      <td>NaN</td>\n",
       "      <td>f</td>\n",
       "      <td>22</td>\n",
       "      <td>20</td>\n",
       "      <td>2</td>\n",
       "      <td>0</td>\n",
       "      <td>1.75</td>\n",
       "    </tr>\n",
       "    <tr>\n",
       "      <th>9867</th>\n",
       "      <td>1182605629477335828</td>\n",
       "      <td>https://www.airbnb.com/rooms/1182605629477335828</td>\n",
       "      <td>20240629155744</td>\n",
       "      <td>2024-06-29</td>\n",
       "      <td>city scrape</td>\n",
       "      <td>Praktisk toroms i Nydalen, med parkering</td>\n",
       "      <td>Good location in Nydalen, good service offer w...</td>\n",
       "      <td>NaN</td>\n",
       "      <td>https://a0.muscache.com/pictures/hosting/Hosti...</td>\n",
       "      <td>197051981</td>\n",
       "      <td>...</td>\n",
       "      <td>NaN</td>\n",
       "      <td>NaN</td>\n",
       "      <td>NaN</td>\n",
       "      <td>NaN</td>\n",
       "      <td>f</td>\n",
       "      <td>1</td>\n",
       "      <td>1</td>\n",
       "      <td>0</td>\n",
       "      <td>0</td>\n",
       "      <td>NaN</td>\n",
       "    </tr>\n",
       "  </tbody>\n",
       "</table>\n",
       "<p>5 rows × 75 columns</p>\n",
       "</div>"
      ],
      "text/plain": [
       "                       id                                       listing_url  \\\n",
       "4494   859161389025777098   https://www.airbnb.com/rooms/859161389025777098   \n",
       "3047   658315390474350003   https://www.airbnb.com/rooms/658315390474350003   \n",
       "4772   884553172893875874   https://www.airbnb.com/rooms/884553172893875874   \n",
       "3648   735923251748610942   https://www.airbnb.com/rooms/735923251748610942   \n",
       "9867  1182605629477335828  https://www.airbnb.com/rooms/1182605629477335828   \n",
       "\n",
       "           scrape_id last_scraped           source  \\\n",
       "4494  20240629155744   2024-06-29      city scrape   \n",
       "3047  20240629155744   2024-06-29      city scrape   \n",
       "4772  20240629155744   2024-06-30  previous scrape   \n",
       "3648  20240629155744   2024-06-29      city scrape   \n",
       "9867  20240629155744   2024-06-29      city scrape   \n",
       "\n",
       "                                                  name  \\\n",
       "4494   Spacious lovely apartment in the senter of Oslo   \n",
       "3047        Seafront apartment at luxurious Tjuvholmen   \n",
       "4772                       Summer at Grünerløkka, Oslo   \n",
       "3648  Maisonette Venice,2floors, 2 toilette,3 bedrooms   \n",
       "9867          Praktisk toroms i Nydalen, med parkering   \n",
       "\n",
       "                                            description  \\\n",
       "4494  Spacious and stylish apartment at central area...   \n",
       "3047  Beautiful and central apartment at the exclusi...   \n",
       "4772  A convenient 60m2 flat at Grünerløkka, Oslo - ...   \n",
       "3648  Your family will be close to everything when y...   \n",
       "9867  Good location in Nydalen, good service offer w...   \n",
       "\n",
       "                                  neighborhood_overview  \\\n",
       "4494  Very central and attractive location close to ...   \n",
       "3047                                                NaN   \n",
       "4772  The flat is located centrally at Grünerløkka, ...   \n",
       "3648                                                NaN   \n",
       "9867                                                NaN   \n",
       "\n",
       "                                            picture_url    host_id  ...  \\\n",
       "4494  https://a0.muscache.com/pictures/miso/Hosting-...   83000559  ...   \n",
       "3047  https://a0.muscache.com/pictures/miso/Hosting-...  466300993  ...   \n",
       "4772  https://a0.muscache.com/pictures/1e2fbc30-8e18...   76056154  ...   \n",
       "3648  https://a0.muscache.com/pictures/miso/Hosting-...   20437055  ...   \n",
       "9867  https://a0.muscache.com/pictures/hosting/Hosti...  197051981  ...   \n",
       "\n",
       "     review_scores_communication review_scores_location review_scores_value  \\\n",
       "4494                        5.00                   4.43                4.57   \n",
       "3047                        4.97                   4.97                4.84   \n",
       "4772                        5.00                   4.97                4.90   \n",
       "3648                        4.92                   4.92                4.56   \n",
       "9867                         NaN                    NaN                 NaN   \n",
       "\n",
       "     license instant_bookable calculated_host_listings_count  \\\n",
       "4494     NaN                t                              1   \n",
       "3047     NaN                t                              1   \n",
       "4772     NaN                t                              1   \n",
       "3648     NaN                f                             22   \n",
       "9867     NaN                f                              1   \n",
       "\n",
       "     calculated_host_listings_count_entire_homes  \\\n",
       "4494                                           1   \n",
       "3047                                           1   \n",
       "4772                                           1   \n",
       "3648                                          20   \n",
       "9867                                           1   \n",
       "\n",
       "     calculated_host_listings_count_private_rooms  \\\n",
       "4494                                            0   \n",
       "3047                                            0   \n",
       "4772                                            0   \n",
       "3648                                            2   \n",
       "9867                                            0   \n",
       "\n",
       "     calculated_host_listings_count_shared_rooms reviews_per_month  \n",
       "4494                                           0              0.62  \n",
       "3047                                           0              3.11  \n",
       "4772                                           0              2.29  \n",
       "3648                                           0              1.75  \n",
       "9867                                           0               NaN  \n",
       "\n",
       "[5 rows x 75 columns]"
      ]
     },
     "execution_count": 9,
     "metadata": {},
     "output_type": "execute_result"
    }
   ],
   "source": [
    "print(gz_listings.shape)\n",
    "gz_listings.sample(5)"
   ]
  },
  {
   "cell_type": "code",
   "execution_count": 47,
   "metadata": {},
   "outputs": [
    {
     "data": {
      "text/plain": [
       "Index(['id', 'listing_url', 'scrape_id', 'last_scraped', 'source', 'name',\n",
       "       'description', 'picture_url', 'host_id', 'host_url', 'host_name',\n",
       "       'host_since', 'host_location', 'host_acceptance_rate',\n",
       "       'host_is_superhost', 'host_thumbnail_url', 'host_picture_url',\n",
       "       'host_listings_count', 'host_total_listings_count',\n",
       "       'host_verifications', 'host_has_profile_pic', 'host_identity_verified',\n",
       "       'neighbourhood_cleansed', 'latitude', 'longitude', 'property_type',\n",
       "       'room_type', 'accommodates', 'bathrooms', 'bathrooms_text', 'bedrooms',\n",
       "       'beds', 'amenities', 'price', 'minimum_nights', 'maximum_nights',\n",
       "       'minimum_minimum_nights', 'maximum_minimum_nights',\n",
       "       'minimum_maximum_nights', 'maximum_maximum_nights',\n",
       "       'minimum_nights_avg_ntm', 'maximum_nights_avg_ntm', 'has_availability',\n",
       "       'availability_30', 'availability_60', 'availability_90',\n",
       "       'availability_365', 'calendar_last_scraped', 'number_of_reviews',\n",
       "       'number_of_reviews_ltm', 'number_of_reviews_l30d', 'instant_bookable',\n",
       "       'calculated_host_listings_count',\n",
       "       'calculated_host_listings_count_entire_homes',\n",
       "       'calculated_host_listings_count_private_rooms',\n",
       "       'calculated_host_listings_count_shared_rooms'],\n",
       "      dtype='object')"
      ]
     },
     "execution_count": 47,
     "metadata": {},
     "output_type": "execute_result"
    }
   ],
   "source": [
    "gz_listings.columns"
   ]
  },
  {
   "cell_type": "code",
   "execution_count": null,
   "metadata": {},
   "outputs": [
    {
     "data": {
      "text/plain": [
       "array(['Entire home/apt', 'Private room', 'Shared room', 'Hotel room'],\n",
       "      dtype=object)"
      ]
     },
     "execution_count": 49,
     "metadata": {},
     "output_type": "execute_result"
    }
   ],
   "source": [
    "gz_listings[''].unique()"
   ]
  },
  {
   "cell_type": "code",
   "execution_count": 10,
   "metadata": {},
   "outputs": [
    {
     "name": "stdout",
     "output_type": "stream",
     "text": [
      "Empty DataFrame\n",
      "Columns: [id, listing_url, scrape_id, last_scraped, source, name, description, neighborhood_overview, picture_url, host_id, host_url, host_name, host_since, host_location, host_about, host_response_time, host_response_rate, host_acceptance_rate, host_is_superhost, host_thumbnail_url, host_picture_url, host_neighbourhood, host_listings_count, host_total_listings_count, host_verifications, host_has_profile_pic, host_identity_verified, neighbourhood, neighbourhood_cleansed, neighbourhood_group_cleansed, latitude, longitude, property_type, room_type, accommodates, bathrooms, bathrooms_text, bedrooms, beds, amenities, price, minimum_nights, maximum_nights, minimum_minimum_nights, maximum_minimum_nights, minimum_maximum_nights, maximum_maximum_nights, minimum_nights_avg_ntm, maximum_nights_avg_ntm, calendar_updated, has_availability, availability_30, availability_60, availability_90, availability_365, calendar_last_scraped, number_of_reviews, number_of_reviews_ltm, number_of_reviews_l30d, first_review, last_review, review_scores_rating, review_scores_accuracy, review_scores_cleanliness, review_scores_checkin, review_scores_communication, review_scores_location, review_scores_value, license, instant_bookable, calculated_host_listings_count, calculated_host_listings_count_entire_homes, calculated_host_listings_count_private_rooms, calculated_host_listings_count_shared_rooms, reviews_per_month]\n",
      "Index: []\n",
      "\n",
      "[0 rows x 75 columns]\n"
     ]
    }
   ],
   "source": [
    "comparison=(gz_listings['id']==df_listings['id'])\n",
    "mismatched_ids = gz_listings[~comparison]\n",
    "print(mismatched_ids)"
   ]
  },
  {
   "cell_type": "code",
   "execution_count": 21,
   "metadata": {},
   "outputs": [
    {
     "data": {
      "text/plain": [
       "array(['city scrape', 'previous scrape'], dtype=object)"
      ]
     },
     "execution_count": 21,
     "metadata": {},
     "output_type": "execute_result"
    }
   ],
   "source": [
    "gz_listings['source'].unique()"
   ]
  },
  {
   "cell_type": "code",
   "execution_count": 19,
   "metadata": {},
   "outputs": [
    {
     "data": {
      "text/plain": [
       "Index(['id', 'listing_url', 'scrape_id', 'last_scraped', 'source', 'name',\n",
       "       'description', 'neighborhood_overview', 'picture_url', 'host_id',\n",
       "       'host_url', 'host_name', 'host_since', 'host_location', 'host_about',\n",
       "       'host_response_time', 'host_response_rate', 'host_acceptance_rate',\n",
       "       'host_is_superhost', 'host_thumbnail_url', 'host_picture_url',\n",
       "       'host_neighbourhood', 'host_listings_count',\n",
       "       'host_total_listings_count', 'host_verifications',\n",
       "       'host_has_profile_pic', 'host_identity_verified', 'neighbourhood',\n",
       "       'neighbourhood_cleansed', 'neighbourhood_group_cleansed', 'latitude',\n",
       "       'longitude', 'property_type', 'room_type', 'accommodates', 'bathrooms',\n",
       "       'bathrooms_text', 'bedrooms', 'beds', 'amenities', 'price',\n",
       "       'minimum_nights', 'maximum_nights', 'minimum_minimum_nights',\n",
       "       'maximum_minimum_nights', 'minimum_maximum_nights',\n",
       "       'maximum_maximum_nights', 'minimum_nights_avg_ntm',\n",
       "       'maximum_nights_avg_ntm', 'calendar_updated', 'has_availability',\n",
       "       'availability_30', 'availability_60', 'availability_90',\n",
       "       'availability_365', 'calendar_last_scraped', 'number_of_reviews',\n",
       "       'number_of_reviews_ltm', 'number_of_reviews_l30d', 'first_review',\n",
       "       'last_review', 'review_scores_rating', 'review_scores_accuracy',\n",
       "       'review_scores_cleanliness', 'review_scores_checkin',\n",
       "       'review_scores_communication', 'review_scores_location',\n",
       "       'review_scores_value', 'license', 'instant_bookable',\n",
       "       'calculated_host_listings_count',\n",
       "       'calculated_host_listings_count_entire_homes',\n",
       "       'calculated_host_listings_count_private_rooms',\n",
       "       'calculated_host_listings_count_shared_rooms', 'reviews_per_month'],\n",
       "      dtype='object')"
      ]
     },
     "execution_count": 19,
     "metadata": {},
     "output_type": "execute_result"
    }
   ],
   "source": [
    "gz_listings.columns"
   ]
  },
  {
   "cell_type": "code",
   "execution_count": null,
   "metadata": {},
   "outputs": [],
   "source": [
    "columnas_a_eliminar = [t for t in gz_listings.columns if (gz_listings[t].isnull().sum() / gz_listings.shape[0] * 100) > 20]\n",
    "gz_listings.drop(columns=columnas_a_eliminar, axis=1, inplace=True)"
   ]
  },
  {
   "cell_type": "code",
   "execution_count": null,
   "metadata": {},
   "outputs": [],
   "source": [
    "url=[i for i in gz_listings.columns if i[-3:]=='url']\n",
    "gz_listings.drop(columns=url,axis=1,inplace=True)"
   ]
  },
  {
   "cell_type": "code",
   "execution_count": 57,
   "metadata": {},
   "outputs": [
    {
     "data": {
      "text/plain": [
       "(10099, 51)"
      ]
     },
     "execution_count": 57,
     "metadata": {},
     "output_type": "execute_result"
    }
   ],
   "source": [
    "gz_listings.shape"
   ]
  },
  {
   "cell_type": "code",
   "execution_count": null,
   "metadata": {},
   "outputs": [],
   "source": [
    "\n",
    "eliminar=['host_name','host_has_profile_pic','host_identity_verified','property_type','bathrooms','bathrooms_text','beds','has_availability','minimum_minimum_nights','maximum_minimum_nights','minimum_maximum_nights','maximum_maximum_nights']\n",
    "\n",
    "gz_listings.drop()"
   ]
  },
  {
   "cell_type": "code",
   "execution_count": 83,
   "metadata": {},
   "outputs": [
    {
     "data": {
      "text/plain": [
       "array(['f', 't'], dtype=object)"
      ]
     },
     "execution_count": 83,
     "metadata": {},
     "output_type": "execute_result"
    }
   ],
   "source": [
    "gz_listings['instant_bookable'].unique()"
   ]
  },
  {
   "cell_type": "code",
   "execution_count": 59,
   "metadata": {},
   "outputs": [
    {
     "data": {
      "text/plain": [
       "Index(['id', 'scrape_id', 'last_scraped', 'source', 'name', 'description',\n",
       "       'host_id', 'host_name', 'host_since', 'host_location',\n",
       "       'host_acceptance_rate', 'host_is_superhost', 'host_listings_count',\n",
       "       'host_total_listings_count', 'host_verifications',\n",
       "       'host_has_profile_pic', 'host_identity_verified',\n",
       "       'neighbourhood_cleansed', 'latitude', 'longitude', 'property_type',\n",
       "       'room_type', 'accommodates', 'bathrooms', 'bathrooms_text', 'bedrooms',\n",
       "       'beds', 'amenities', 'price', 'minimum_nights', 'maximum_nights',\n",
       "       'minimum_minimum_nights', 'maximum_minimum_nights',\n",
       "       'minimum_maximum_nights', 'maximum_maximum_nights',\n",
       "       'minimum_nights_avg_ntm', 'maximum_nights_avg_ntm', 'has_availability',\n",
       "       'availability_30', 'availability_60', 'availability_90',\n",
       "       'availability_365', 'calendar_last_scraped', 'number_of_reviews',\n",
       "       'number_of_reviews_ltm', 'number_of_reviews_l30d', 'instant_bookable',\n",
       "       'calculated_host_listings_count',\n",
       "       'calculated_host_listings_count_entire_homes',\n",
       "       'calculated_host_listings_count_private_rooms',\n",
       "       'calculated_host_listings_count_shared_rooms'],\n",
       "      dtype='object')"
      ]
     },
     "execution_count": 59,
     "metadata": {},
     "output_type": "execute_result"
    }
   ],
   "source": [
    "gz_listings.columns"
   ]
  },
  {
   "cell_type": "code",
   "execution_count": 58,
   "metadata": {},
   "outputs": [
    {
     "name": "stdout",
     "output_type": "stream",
     "text": [
      "Columnas con más de un valor nulo:\n",
      "host_location           16.86\n",
      "host_acceptance_rate    12.96\n",
      "price                   12.37\n",
      "bathrooms               12.03\n",
      "beds                    11.98\n",
      "has_availability         3.86\n",
      "description              3.60\n",
      "bedrooms                 1.71\n",
      "host_is_superhost        1.03\n",
      "bathrooms_text           0.06\n",
      "dtype: float64\n"
     ]
    }
   ],
   "source": [
    "nulos_por_columna = gz_listings.isnull().sum()\n",
    "\n",
    "# Filtrar las columnas con más de un valor nulo\n",
    "columnas_con_mas_de_un_nulo = nulos_por_columna[nulos_por_columna > 1]\n",
    "\n",
    "print(\"Columnas con más de un valor nulo:\")\n",
    "print((columnas_con_mas_de_un_nulo.sort_values(ascending=False)/gz_listings.shape[0]*100).round(2))"
   ]
  },
  {
   "cell_type": "code",
   "execution_count": 127,
   "metadata": {},
   "outputs": [
    {
     "name": "stdout",
     "output_type": "stream",
     "text": [
      "Empty DataFrame\n",
      "Columns: [id, listing_url, scrape_id, last_scraped, source, name, description, neighborhood_overview, picture_url, host_id, host_url, host_name, host_since, host_location, host_about, host_response_time, host_response_rate, host_acceptance_rate, host_is_superhost, host_thumbnail_url, host_picture_url, host_neighbourhood, host_listings_count, host_total_listings_count, host_verifications, host_has_profile_pic, host_identity_verified, neighbourhood, neighbourhood_cleansed, neighbourhood_group_cleansed, latitude, longitude, property_type, room_type, accommodates, bathrooms, bathrooms_text, bedrooms, beds, amenities, price, minimum_nights, maximum_nights, minimum_minimum_nights, maximum_minimum_nights, minimum_maximum_nights, maximum_maximum_nights, minimum_nights_avg_ntm, maximum_nights_avg_ntm, calendar_updated, has_availability, availability_30, availability_60, availability_90, availability_365, calendar_last_scraped, number_of_reviews, number_of_reviews_ltm, number_of_reviews_l30d, first_review, last_review, review_scores_rating, review_scores_accuracy, review_scores_cleanliness, review_scores_checkin, review_scores_communication, review_scores_location, review_scores_value, license, instant_bookable, calculated_host_listings_count, calculated_host_listings_count_entire_homes, calculated_host_listings_count_private_rooms, calculated_host_listings_count_shared_rooms, reviews_per_month]\n",
      "Index: []\n",
      "\n",
      "[0 rows x 75 columns]\n"
     ]
    }
   ],
   "source": [
    "comparison=(gz_listings['id']==df_listings['id'])\n",
    "mismatched_ids = gz_listings[~comparison]\n",
    "print(mismatched_ids)"
   ]
  },
  {
   "cell_type": "code",
   "execution_count": 115,
   "metadata": {},
   "outputs": [
    {
     "data": {
      "text/plain": [
       "id                                  0.000000\n",
       "name                                0.000000\n",
       "host_id                             0.000000\n",
       "host_name                           0.000000\n",
       "neighbourhood_group               100.000000\n",
       "neighbourhood                       0.000000\n",
       "latitude                            0.000000\n",
       "longitude                           0.000000\n",
       "room_type                           0.000000\n",
       "price                              12.367561\n",
       "minimum_nights                      0.000000\n",
       "number_of_reviews                   0.000000\n",
       "last_review                        26.873948\n",
       "reviews_per_month                  26.873948\n",
       "calculated_host_listings_count      0.000000\n",
       "availability_365                    0.000000\n",
       "number_of_reviews_ltm               0.000000\n",
       "license                           100.000000\n",
       "dtype: float64"
      ]
     },
     "execution_count": 115,
     "metadata": {},
     "output_type": "execute_result"
    }
   ],
   "source": [
    "df_listings.isnull().sum()/df_listings.shape[0]*100"
   ]
  },
  {
   "cell_type": "code",
   "execution_count": 65,
   "metadata": {},
   "outputs": [
    {
     "name": "stdout",
     "output_type": "stream",
     "text": [
      "(10099, 75)\n",
      "(10099, 18)\n"
     ]
    }
   ],
   "source": [
    "print(gz_listings.shape)\n",
    "print(df_listings.shape)"
   ]
  },
  {
   "cell_type": "code",
   "execution_count": 24,
   "metadata": {},
   "outputs": [
    {
     "name": "stdout",
     "output_type": "stream",
     "text": [
      "(167633, 6)\n",
      "(167633, 2)\n"
     ]
    }
   ],
   "source": [
    "print(gz_reviews.shape)\n",
    "print(df_reviews.shape)"
   ]
  },
  {
   "cell_type": "code",
   "execution_count": 29,
   "metadata": {},
   "outputs": [
    {
     "data": {
      "text/html": [
       "<div>\n",
       "<style scoped>\n",
       "    .dataframe tbody tr th:only-of-type {\n",
       "        vertical-align: middle;\n",
       "    }\n",
       "\n",
       "    .dataframe tbody tr th {\n",
       "        vertical-align: top;\n",
       "    }\n",
       "\n",
       "    .dataframe thead th {\n",
       "        text-align: right;\n",
       "    }\n",
       "</style>\n",
       "<table border=\"1\" class=\"dataframe\">\n",
       "  <thead>\n",
       "    <tr style=\"text-align: right;\">\n",
       "      <th></th>\n",
       "      <th>listing_id</th>\n",
       "      <th>id</th>\n",
       "      <th>date</th>\n",
       "      <th>reviewer_id</th>\n",
       "      <th>reviewer_name</th>\n",
       "      <th>comments</th>\n",
       "    </tr>\n",
       "  </thead>\n",
       "  <tbody>\n",
       "    <tr>\n",
       "      <th>167628</th>\n",
       "      <td>1183753819897232363</td>\n",
       "      <td>1189703805177120244</td>\n",
       "      <td>2024-06-29</td>\n",
       "      <td>75041796</td>\n",
       "      <td>Markus</td>\n",
       "      <td>Nice area and super friendly hosts</td>\n",
       "    </tr>\n",
       "    <tr>\n",
       "      <th>167629</th>\n",
       "      <td>1184837452215505435</td>\n",
       "      <td>1188316132042491707</td>\n",
       "      <td>2024-06-27</td>\n",
       "      <td>335832683</td>\n",
       "      <td>Fredrik S</td>\n",
       "      <td>Kjempefin og ren leilighet som svarte til forv...</td>\n",
       "    </tr>\n",
       "    <tr>\n",
       "      <th>167630</th>\n",
       "      <td>1185718401945226016</td>\n",
       "      <td>1189790756831786313</td>\n",
       "      <td>2024-06-29</td>\n",
       "      <td>154327292</td>\n",
       "      <td>Gintare</td>\n",
       "      <td>The location of apparent was really good, for ...</td>\n",
       "    </tr>\n",
       "    <tr>\n",
       "      <th>167631</th>\n",
       "      <td>1186297768378069929</td>\n",
       "      <td>1188249982689884858</td>\n",
       "      <td>2024-06-27</td>\n",
       "      <td>146662985</td>\n",
       "      <td>Dino</td>\n",
       "      <td>Utrolig sjarmerende, moderne og hyggelig leili...</td>\n",
       "    </tr>\n",
       "    <tr>\n",
       "      <th>167632</th>\n",
       "      <td>1187069965476775838</td>\n",
       "      <td>1189701971811902867</td>\n",
       "      <td>2024-06-29</td>\n",
       "      <td>132894544</td>\n",
       "      <td>Sindre</td>\n",
       "      <td>Perfekt sted i Oslo. Nærme parker og restauran...</td>\n",
       "    </tr>\n",
       "  </tbody>\n",
       "</table>\n",
       "</div>"
      ],
      "text/plain": [
       "                 listing_id                   id        date  reviewer_id  \\\n",
       "167628  1183753819897232363  1189703805177120244  2024-06-29     75041796   \n",
       "167629  1184837452215505435  1188316132042491707  2024-06-27    335832683   \n",
       "167630  1185718401945226016  1189790756831786313  2024-06-29    154327292   \n",
       "167631  1186297768378069929  1188249982689884858  2024-06-27    146662985   \n",
       "167632  1187069965476775838  1189701971811902867  2024-06-29    132894544   \n",
       "\n",
       "       reviewer_name                                           comments  \n",
       "167628        Markus                 Nice area and super friendly hosts  \n",
       "167629     Fredrik S  Kjempefin og ren leilighet som svarte til forv...  \n",
       "167630       Gintare  The location of apparent was really good, for ...  \n",
       "167631          Dino  Utrolig sjarmerende, moderne og hyggelig leili...  \n",
       "167632        Sindre  Perfekt sted i Oslo. Nærme parker og restauran...  "
      ]
     },
     "execution_count": 29,
     "metadata": {},
     "output_type": "execute_result"
    }
   ],
   "source": [
    "gz_reviews.tail(5)"
   ]
  },
  {
   "cell_type": "code",
   "execution_count": 30,
   "metadata": {},
   "outputs": [
    {
     "data": {
      "text/html": [
       "<div>\n",
       "<style scoped>\n",
       "    .dataframe tbody tr th:only-of-type {\n",
       "        vertical-align: middle;\n",
       "    }\n",
       "\n",
       "    .dataframe tbody tr th {\n",
       "        vertical-align: top;\n",
       "    }\n",
       "\n",
       "    .dataframe thead th {\n",
       "        text-align: right;\n",
       "    }\n",
       "</style>\n",
       "<table border=\"1\" class=\"dataframe\">\n",
       "  <thead>\n",
       "    <tr style=\"text-align: right;\">\n",
       "      <th></th>\n",
       "      <th>listing_id</th>\n",
       "      <th>date</th>\n",
       "    </tr>\n",
       "  </thead>\n",
       "  <tbody>\n",
       "    <tr>\n",
       "      <th>167628</th>\n",
       "      <td>1183753819897232363</td>\n",
       "      <td>2024-06-29</td>\n",
       "    </tr>\n",
       "    <tr>\n",
       "      <th>167629</th>\n",
       "      <td>1184837452215505435</td>\n",
       "      <td>2024-06-27</td>\n",
       "    </tr>\n",
       "    <tr>\n",
       "      <th>167630</th>\n",
       "      <td>1185718401945226016</td>\n",
       "      <td>2024-06-29</td>\n",
       "    </tr>\n",
       "    <tr>\n",
       "      <th>167631</th>\n",
       "      <td>1186297768378069929</td>\n",
       "      <td>2024-06-27</td>\n",
       "    </tr>\n",
       "    <tr>\n",
       "      <th>167632</th>\n",
       "      <td>1187069965476775838</td>\n",
       "      <td>2024-06-29</td>\n",
       "    </tr>\n",
       "  </tbody>\n",
       "</table>\n",
       "</div>"
      ],
      "text/plain": [
       "                 listing_id        date\n",
       "167628  1183753819897232363  2024-06-29\n",
       "167629  1184837452215505435  2024-06-27\n",
       "167630  1185718401945226016  2024-06-29\n",
       "167631  1186297768378069929  2024-06-27\n",
       "167632  1187069965476775838  2024-06-29"
      ]
     },
     "execution_count": 30,
     "metadata": {},
     "output_type": "execute_result"
    }
   ],
   "source": [
    "df_reviews.tail(5)"
   ]
  },
  {
   "cell_type": "code",
   "execution_count": 37,
   "metadata": {},
   "outputs": [
    {
     "name": "stdout",
     "output_type": "stream",
     "text": [
      "(168179, 6)\n",
      "listing_id        0\n",
      "id                0\n",
      "date              0\n",
      "reviewer_id       0\n",
      "reviewer_name     0\n",
      "comments         13\n",
      "dtype: int64\n"
     ]
    }
   ],
   "source": [
    "dataset_reviews=pd.merge(gz_reviews,df_reviews)\n",
    "print(dataset_reviews.shape)\n",
    "print(dataset_reviews.isnull().sum())"
   ]
  },
  {
   "cell_type": "code",
   "execution_count": 42,
   "metadata": {},
   "outputs": [],
   "source": [
    "dataset_reviews.dropna(inplace=True)"
   ]
  }
 ],
 "metadata": {
  "kernelspec": {
   "display_name": "Python 3",
   "language": "python",
   "name": "python3"
  },
  "language_info": {
   "codemirror_mode": {
    "name": "ipython",
    "version": 3
   },
   "file_extension": ".py",
   "mimetype": "text/x-python",
   "name": "python",
   "nbconvert_exporter": "python",
   "pygments_lexer": "ipython3",
   "version": "3.12.3"
  }
 },
 "nbformat": 4,
 "nbformat_minor": 2
}
